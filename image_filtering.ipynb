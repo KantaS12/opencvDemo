{
 "cells": [
  {
   "cell_type": "code",
   "execution_count": 1,
   "metadata": {},
   "outputs": [],
   "source": [
    "import cv2 \n",
    "import sys\n",
    "import numpy"
   ]
  },
  {
   "cell_type": "code",
   "execution_count": 2,
   "metadata": {},
   "outputs": [],
   "source": [
    "PREVIEW = 0 #Preview Mode\n",
    "BLUR = 1 #Blurring Filter\n",
    "FEATURES = 2 #Corner Feature Detector\n",
    "CANNY = 3 #Canny Edge Detector"
   ]
  },
  {
   "cell_type": "code",
   "execution_count": 3,
   "metadata": {},
   "outputs": [
    {
     "name": "stderr",
     "output_type": "stream",
     "text": [
      "OpenCV: Couldn't read video stream from file \"--f=/Users/kantasaito/Library/Jupyter/runtime/kernel-v2-88052nIqs0qtZUuC.json\"\n"
     ]
    },
    {
     "ename": "",
     "evalue": "",
     "output_type": "error",
     "traceback": [
      "\u001b[1;31mThe Kernel crashed while executing code in the current cell or a previous cell. \n",
      "\u001b[1;31mPlease review the code in the cell(s) to identify a possible cause of the failure. \n",
      "\u001b[1;31mClick <a href='https://aka.ms/vscodeJupyterKernelCrash'>here</a> for more info. \n",
      "\u001b[1;31mView Jupyter <a href='command:jupyter.viewOutput'>log</a> for further details."
     ]
    }
   ],
   "source": [
    "feature_params = dict(maxCorners=500, quality=0.2, minDistance=15, blockSize=9)\n",
    "s = 0\n",
    "if len(sys.argv) > 1:\n",
    "    s = sys.argv[1]\n",
    "\n",
    "image_filter = PREVIEW\n",
    "alive = True\n",
    "win_name = \"Camera Filters\"\n",
    "cv2.namedWindow(win_name, cv2.WINDOW_NORMAL)\n",
    "result = None\n",
    "source = cv2.VideoCapture(s)\n",
    "\n",
    "while alive:\n",
    "    has_frame, frame = source.read()\n",
    "    if not has_frame:\n",
    "        break\n",
    "    frame = cv2.flip(frame, 1)\n",
    "\n",
    "    if image_filter == PREVIEW:\n",
    "        result = frame\n",
    "    elif image_filter == CANNY:\n",
    "        result = cv2.Canny(frame, 80, 150)\n",
    "    elif image_filter == BLUR:\n",
    "        result = cv2.blur(frame, (13,13))\n",
    "    elif image_filter == FEATURES:\n",
    "        result = frame\n",
    "        frame_gray = cv2.cvtColor(frame, cv2.COLOR_BGR2GRAY)\n",
    "\n",
    "        corners = cv2.goodFeaturesToTrack(frame_gray, **feature_params)\n",
    "        if corners is not None:\n",
    "            for x, y in numpy.float32(corners).reshape(-1,2):\n",
    "                cv2.circle(result, (x,y), 10, (0, 255, 0), 1)\n",
    "    cv2.imshow(win_name, result)\n",
    "    cv2.show()\n",
    "    key = cv2.waitKey(1)\n",
    "    if key == ord(\"Q\") or key == ord(\"q\") or key == 27:\n",
    "        alive = False\n",
    "    elif key == ord(\"C\") or key == ord(\"c\"):\n",
    "        image_filter = CANNY\n",
    "    elif key == ord(\"B\") or key == ord(\"b\"):\n",
    "        image_filter = BLUR\n",
    "    elif key == ord(\"F\") or key == ord(\"f\"):\n",
    "        image_filter = FEATURES\n",
    "    elif key == ord(\"P\") or key == ord(\"p\"):\n",
    "        image_filter = PREVIEW\n",
    "\n",
    "source.release()\n",
    "cv2.destroyWindow(win_name)"
   ]
  },
  {
   "cell_type": "markdown",
   "metadata": {},
   "source": [
    "Primary reasons we use blurring in computer vision is because when we use gradients it much easier and also less \"noisy\" when using the images to calculating the gradient\n",
    "\n",
    "Bilateral filters reduces unwanted noise while keeping edges fairly sharp\n",
    "\n",
    "When the low threshold is too high in the canny edge detection algorithm, very few edges are detected.\n",
    "\n",
    "The function of cv2.blur() in OpenCV is applying an average blur filter to an image.\n",
    "\n",
    "The method of box filtering is when the kernel has all equal values."
   ]
  }
 ],
 "metadata": {
  "kernelspec": {
   "display_name": "base",
   "language": "python",
   "name": "python3"
  },
  "language_info": {
   "codemirror_mode": {
    "name": "ipython",
    "version": 3
   },
   "file_extension": ".py",
   "mimetype": "text/x-python",
   "name": "python",
   "nbconvert_exporter": "python",
   "pygments_lexer": "ipython3",
   "version": "3.12.4"
  }
 },
 "nbformat": 4,
 "nbformat_minor": 2
}
