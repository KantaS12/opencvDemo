{
 "cells": [
  {
   "cell_type": "code",
   "execution_count": 1,
   "metadata": {},
   "outputs": [],
   "source": [
    "import cv2\n",
    "import sys"
   ]
  },
  {
   "cell_type": "code",
   "execution_count": 4,
   "metadata": {},
   "outputs": [
    {
     "name": "stderr",
     "output_type": "stream",
     "text": [
      "OpenCV: Couldn't read video stream from file \"--f=/Users/kantasaito/Library/Jupyter/runtime/kernel-v2-5544gKREW3T6dXgl.json\"\n"
     ]
    }
   ],
   "source": [
    "s = 0\n",
    "if len(sys.argv) > 1:\n",
    "    s = sys.argv[1]\n",
    "source = cv2.VideoCapture(s)\n",
    "\n",
    "win_name = \"camera preview\"\n",
    "cv2.namedWindow(win_name, cv2.WINDOW_NORMAL)\n",
    "while cv2.waitKey(1) != 27:  #Escape\n",
    "    has_frame, frame = source.read()\n",
    "    if not has_frame:\n",
    "        break\n",
    "    cv2.imshow(win_name, frame)\n",
    "source.release()\n",
    "cv2.destroyWindow(win_name)"
   ]
  },
  {
   "cell_type": "markdown",
   "metadata": {},
   "source": [
    "for VideoCapture() You can have direct videos and integers like 0 and 1 but you cannot have video links like youtube."
   ]
  }
 ],
 "metadata": {
  "kernelspec": {
   "display_name": "base",
   "language": "python",
   "name": "python3"
  },
  "language_info": {
   "codemirror_mode": {
    "name": "ipython",
    "version": 3
   },
   "file_extension": ".py",
   "mimetype": "text/x-python",
   "name": "python",
   "nbconvert_exporter": "python",
   "pygments_lexer": "ipython3",
   "version": "3.12.4"
  }
 },
 "nbformat": 4,
 "nbformat_minor": 2
}
